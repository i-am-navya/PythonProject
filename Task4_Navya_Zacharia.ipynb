{
  "nbformat": 4,
  "nbformat_minor": 0,
  "metadata": {
    "colab": {
      "provenance": []
    },
    "kernelspec": {
      "name": "python3",
      "display_name": "Python 3"
    },
    "language_info": {
      "name": "python"
    }
  },
  "cells": [
    {
      "cell_type": "markdown",
      "source": [
        "1. Write a Python program to check that a string contains only a certain set of characters (in this case a-z, A-Z and 0-9).\n",
        "\n"
      ],
      "metadata": {
        "id": "fpQX9wBhb6ox"
      }
    },
    {
      "cell_type": "code",
      "execution_count": null,
      "metadata": {
        "id": "5HKhizIkbt59",
        "colab": {
          "base_uri": "https://localhost:8080/"
        },
        "outputId": "8de27d8f-1b0d-4dae-f57d-5130382681d2"
      },
      "outputs": [
        {
          "output_type": "stream",
          "name": "stdout",
          "text": [
            "True\n"
          ]
        }
      ],
      "source": [
        "\n",
        "import re\n",
        "pattern = \"^[A-Za-z0-9]+$\"\n",
        "string = \"Nav09\"\n",
        "result = bool(re.match(pattern, string))\n",
        "print(result)"
      ]
    },
    {
      "cell_type": "markdown",
      "source": [
        "2. Write a Python program that matches a string that has an a followed by zero or more b's.\n",
        "\n"
      ],
      "metadata": {
        "id": "rtdxRzltcRtS"
      }
    },
    {
      "cell_type": "code",
      "source": [
        "import re\n",
        "pattern = '^a(b*)$'\n",
        "text=\"a\"\n",
        "result = bool(re.match(pattern, text))\n",
        "print(result)\n"
      ],
      "metadata": {
        "id": "ZjdCBYZAcZGl",
        "colab": {
          "base_uri": "https://localhost:8080/"
        },
        "outputId": "d3c4c375-f89e-47dd-e386-2a0eb4eb4ec2"
      },
      "execution_count": null,
      "outputs": [
        {
          "output_type": "stream",
          "name": "stdout",
          "text": [
            "True\n"
          ]
        }
      ]
    },
    {
      "cell_type": "markdown",
      "source": [
        "3. Replace only the first occurrence of 5 with five for the given string\n",
        "\n"
      ],
      "metadata": {
        "id": "kyvbz3eNcZri"
      }
    },
    {
      "cell_type": "code",
      "source": [
        "import re\n",
        "string = 'They ate 5 apples and 5 oranges'\n",
        "new_string = re.sub(r\"5\", \"five\", string, 1)\n",
        "print(new_string)"
      ],
      "metadata": {
        "id": "pgZy45dxcqSg",
        "colab": {
          "base_uri": "https://localhost:8080/"
        },
        "outputId": "45db0f88-9113-4ab6-99b4-d68a675d8e82"
      },
      "execution_count": null,
      "outputs": [
        {
          "output_type": "stream",
          "name": "stdout",
          "text": [
            "They ate five apples and 5 oranges\n"
          ]
        }
      ]
    },
    {
      "cell_type": "markdown",
      "source": [
        "4. Write a Python program that matches a string that has an a followed by three 'b'.\n",
        "\n"
      ],
      "metadata": {
        "id": "h_b1-o6ncuzM"
      }
    },
    {
      "cell_type": "code",
      "source": [
        "import re\n",
        "pattern = 'ab{3}?'\n",
        "text=\"abbb\"\n",
        "result = bool(re.match(pattern, text))\n",
        "print(result)"
      ],
      "metadata": {
        "id": "eWIRl3LccqwE",
        "colab": {
          "base_uri": "https://localhost:8080/"
        },
        "outputId": "0577fb25-afc9-466f-820b-ad7873b3407c"
      },
      "execution_count": null,
      "outputs": [
        {
          "output_type": "stream",
          "name": "stdout",
          "text": [
            "True\n"
          ]
        }
      ]
    },
    {
      "cell_type": "markdown",
      "source": [
        "5. Write a Python program that matches a string that has an 'a' followed by anything ending in 'b'.\n",
        "\n"
      ],
      "metadata": {
        "id": "K2vPe01bc2LN"
      }
    },
    {
      "cell_type": "code",
      "source": [
        "import re\n",
        "pattern = 'a.*?b$'\n",
        "text=\"adobe\"\n",
        "result = bool(re.match(pattern, text))\n",
        "print(result)\n"
      ],
      "metadata": {
        "id": "f8KfX59qc3UJ",
        "colab": {
          "base_uri": "https://localhost:8080/"
        },
        "outputId": "3b85766f-0a78-4e44-f295-bcb1f3db40c3"
      },
      "execution_count": null,
      "outputs": [
        {
          "output_type": "stream",
          "name": "stdout",
          "text": [
            "False\n"
          ]
        }
      ]
    },
    {
      "cell_type": "markdown",
      "source": [
        "6. Write a Python program to search for numbers (0-9) of length between 1 and 3 in a given string."
      ],
      "metadata": {
        "id": "NyL-DhqXdZi7"
      }
    },
    {
      "cell_type": "code",
      "source": [
        "import re\n",
        "def getNumbers(txt):\n",
        "    array = re.findall(r\"([0-9]{1,3})\", txt)\n",
        "    return array\n",
        "txt=\"Exercises number 1, 12, 13, and 345 are important\"\n",
        "array = getNumbers(txt)\n",
        "print(*array)"
      ],
      "metadata": {
        "id": "pWsu0HljdnKX",
        "colab": {
          "base_uri": "https://localhost:8080/"
        },
        "outputId": "e6d74522-941a-4869-e512-17342d9ad5cc"
      },
      "execution_count": null,
      "outputs": [
        {
          "output_type": "stream",
          "name": "stdout",
          "text": [
            "1 12 13 345\n"
          ]
        }
      ]
    },
    {
      "cell_type": "markdown",
      "source": [
        "7. Write a Python program to search for literal strings within a string.\\\n",
        "Sample text : 'The quick brown fox jumps over the lazy dog.' \\\n",
        "Searched words : 'fox', 'dog', 'horse'"
      ],
      "metadata": {
        "id": "aWaHWXFjdqy7"
      }
    },
    {
      "cell_type": "code",
      "source": [
        "import re\n",
        "words = [ 'fox', 'dog', 'horse' ]\n",
        "text = 'The quick brown fox jumps over the lazy dog.'\n",
        "for pattern in words:\n",
        "      if re.search(pattern,  text):\n",
        "        print('Found')\n",
        "      else:\n",
        "        print('Not Found')"
      ],
      "metadata": {
        "colab": {
          "base_uri": "https://localhost:8080/"
        },
        "id": "AntYiaffrzBt",
        "outputId": "3831889d-0321-4db3-8e00-dcaf11c42cbb"
      },
      "execution_count": null,
      "outputs": [
        {
          "output_type": "stream",
          "name": "stdout",
          "text": [
            "Found\n",
            "Found\n",
            "Not Found\n"
          ]
        }
      ]
    },
    {
      "cell_type": "code",
      "source": [],
      "metadata": {
        "id": "bVAMeTMddnmf"
      },
      "execution_count": null,
      "outputs": []
    },
    {
      "cell_type": "markdown",
      "source": [
        "8. Write a Python program to search for a literal string in a string and also find the location within the original string where the pattern occurs.\n",
        "\n",
        "Sample text : 'The quick brown fox jumps over the lazy dog.' \\\n",
        "Searched words : 'fox'"
      ],
      "metadata": {
        "id": "2cgZLc6Yd0sE"
      }
    },
    {
      "cell_type": "code",
      "source": [
        "import re\n",
        "pattern = 'fox'\n",
        "text = 'The quick brown fox jumps over the lazy dog.'\n",
        "match = re.search(pattern, text)\n",
        "s = match.start()\n",
        "e = match.end()\n",
        "print(s, e)"
      ],
      "metadata": {
        "id": "Tj1FCCx4d3zZ",
        "colab": {
          "base_uri": "https://localhost:8080/"
        },
        "outputId": "38e75fb9-47a2-492c-e8aa-380c55602f50"
      },
      "execution_count": null,
      "outputs": [
        {
          "output_type": "stream",
          "name": "stdout",
          "text": [
            "16 19\n"
          ]
        }
      ]
    },
    {
      "cell_type": "markdown",
      "source": [
        "9.  Write a Python program to extract year, month and date from an URL"
      ],
      "metadata": {
        "id": "ixuwdsnvdtcP"
      }
    },
    {
      "cell_type": "code",
      "source": [
        "import re\n",
        "def extract_date(url):\n",
        "        return re.findall(r'(\\d{4})/(\\d{1,2})/(\\d{1,2})/', url)\n",
        "url1= \"https://www.washingtonpost.com/news/football-insider/wp/2016/09/02/odell-beckhams-fame-rests-on-one-stupid-little-ball-josh-norman-tells-author/\"\n",
        "print(extract_date(url1))\n"
      ],
      "metadata": {
        "id": "uWA2_OfJeFpw",
        "colab": {
          "base_uri": "https://localhost:8080/"
        },
        "outputId": "e687bc86-daac-4f76-e26b-ff5d32984e97"
      },
      "execution_count": null,
      "outputs": [
        {
          "output_type": "stream",
          "name": "stdout",
          "text": [
            "[('2016', '09', '02')]\n"
          ]
        }
      ]
    },
    {
      "cell_type": "code",
      "source": [
        "import re\n",
        "url1= \"https://www.washingtonpost.com/news/football-insider/wp/2016/09/02/odell-beckhams-fame-rests-on-one-stupid-little-ball-josh-norman\"\n",
        "p=re.compile('\\d{4}/\\d{2}/\\d{2}/')\n",
        "print(p.findall(url1))"
      ],
      "metadata": {
        "colab": {
          "base_uri": "https://localhost:8080/"
        },
        "id": "CF4ioOhsiyNn",
        "outputId": "8a8747fe-ebec-43ae-ab7f-c9b86c1725ed"
      },
      "execution_count": null,
      "outputs": [
        {
          "output_type": "stream",
          "name": "stdout",
          "text": [
            "['2016/99/02/']\n"
          ]
        }
      ]
    },
    {
      "cell_type": "markdown",
      "source": [
        "10. Write a Python program to find URLs in a string.\n",
        "\n"
      ],
      "metadata": {
        "id": "Qdob8Ojkea-W"
      }
    },
    {
      "cell_type": "code",
      "source": [
        "import re\n",
        "def Find(text):\n",
        "    regex = r\"(?i)\\b((?:https?://|www\\d{0,3}[.]|[a-z0-9.\\-]+[.][a-z]{2,4}/)(?:[^\\s()<>]+|\\(([^\\s()<>]+|(\\([^\\s()<>]+\\)))*\\))+(?:\\(([^\\s()<>]+|(\\([^\\s()<>]+\\)))*\\)|[^\\s`!()\\[\\]{};:'\\\".,<>?«»“”‘’]))\"\n",
        "    url = re.findall(regex, text)\n",
        "    return [x[0] for x in url]\n",
        "text = '<p>Contents :</p><a href=\"https://w3resource.com\">Python Examples</a><a href=\"http://github.com\">Even More Examples</a>'\n",
        "print(\"Urls: \", Find(text))\n"
      ],
      "metadata": {
        "id": "d9KUcdQEeIJu",
        "colab": {
          "base_uri": "https://localhost:8080/"
        },
        "outputId": "e78505cf-38cb-403b-e0e0-0e249a67b743"
      },
      "execution_count": null,
      "outputs": [
        {
          "output_type": "stream",
          "name": "stdout",
          "text": [
            "Urls:  ['https://w3resource.com', 'http://github.com']\n"
          ]
        }
      ]
    },
    {
      "cell_type": "markdown",
      "source": [
        "11. Write a Python program to remove the parenthesis area in a string.\\\n",
        "\n",
        "Sample data : [\"example (.com)\", \"w3resource\", \"github (.com)\", \"stackoverflow (.com)\"] \\\n",
        "Expected Output: \\\n",
        "example  \\\n",
        "w3resource \\\n",
        "github  \\\n",
        "stackoverflow. \\\n",
        "\n"
      ],
      "metadata": {
        "id": "5mX_cCEFepSi"
      }
    },
    {
      "cell_type": "code",
      "source": [
        "import re\n",
        "data = [\"example (.com)\", \"w3resource\", \"github (.com)\", \"stackoverflow (.com)\"]\n",
        "for i in data:\n",
        "    print(re.sub(r\" ?\\([^)]+\\)\", \"\", i))"
      ],
      "metadata": {
        "id": "CNYOSWfLee_M",
        "colab": {
          "base_uri": "https://localhost:8080/"
        },
        "outputId": "133f60d3-2f8a-4784-c11e-f0344dfbf0ca"
      },
      "execution_count": null,
      "outputs": [
        {
          "output_type": "stream",
          "name": "stdout",
          "text": [
            "example\n",
            "w3resource\n",
            "github\n",
            "stackoverflow\n"
          ]
        }
      ]
    },
    {
      "cell_type": "markdown",
      "source": [
        "12. Write a Python program to concatenate the consecutive numbers in a given string. \\\n",
        "\n",
        "Original string:  \\\n",
        "Enter at 1 20 Kearny Street. The security desk can direct you to floor 1 6. Please have your identification ready.  \\\n",
        "\n",
        "After concatenating the consecutive numbers in the said string:  \\\n",
        "Enter at 120 Kearny Street. The security desk can direct you to floor 16. Please have your identification ready."
      ],
      "metadata": {
        "id": "sRhveFHXe7nz"
      }
    },
    {
      "cell_type": "code",
      "source": [
        "import re\n",
        "txt = \"Enter at 1 20 Kearny Street. The security desk can direct you to floor 1 6. Please have your identification ready.\"\n",
        "print(\"Original string:\")\n",
        "print(txt)\n",
        "new_txt = re.sub(r\"(?<=\\d)\\s(?=\\d)\", '', txt)\n",
        "print('New String')\n",
        "print(new_txt)"
      ],
      "metadata": {
        "id": "4dcBL0RTe_zP",
        "colab": {
          "base_uri": "https://localhost:8080/"
        },
        "outputId": "c3f56aea-ad02-49b3-82ed-e26440fac659"
      },
      "execution_count": null,
      "outputs": [
        {
          "output_type": "stream",
          "name": "stdout",
          "text": [
            "Original string:\n",
            "Enter at 1 20 Kearny Street. The security desk can direct you to floor 1 6. Please have your identification ready.\n",
            "New String\n",
            "Enter at 120 Kearny Street. The security desk can direct you to floor 16. Please have your identification ready.\n"
          ]
        }
      ]
    },
    {
      "cell_type": "markdown",
      "source": [],
      "metadata": {
        "id": "rENrD10afBB3"
      }
    }
  ]
}