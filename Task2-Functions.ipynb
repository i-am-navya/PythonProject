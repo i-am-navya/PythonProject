{
  "nbformat": 4,
  "nbformat_minor": 0,
  "metadata": {
    "colab": {
      "provenance": []
    },
    "kernelspec": {
      "name": "python3",
      "display_name": "Python 3"
    },
    "language_info": {
      "name": "python"
    }
  },
  "cells": [
    {
      "cell_type": "markdown",
      "source": [
        "Exercise 1: Create a function with a default argument\n",
        "Write a program to create a function show_employee() using the following\n",
        "conditions.\n",
        "● It should accept the employee’s name and salary and display both.\n",
        "● If the salary is missing in the function call then assign default value\n",
        "9000 to salary"
      ],
      "metadata": {
        "id": "plpPaDQE-sCZ"
      }
    },
    {
      "cell_type": "code",
      "source": [
        "def show_employee(name, salary=9000):\n",
        "    print('Name:',name,'salary:',salary)\n",
        "\n",
        "show_employee('Ben', 12000)\n",
        "show_employee('Jessa')"
      ],
      "metadata": {
        "colab": {
          "base_uri": "https://localhost:8080/"
        },
        "id": "CLb5Ey3g-6F4",
        "outputId": "a5a188a0-84d0-4b57-9787-4867eaf855d1"
      },
      "execution_count": null,
      "outputs": [
        {
          "output_type": "stream",
          "name": "stdout",
          "text": [
            "Name: Ben salary: 12000\n",
            "Name: Jessa salary: 9000\n"
          ]
        }
      ]
    },
    {
      "cell_type": "markdown",
      "source": [
        "Exercise 2: Create an inner function to calculate the\n",
        "addition in the following way\n",
        "● Create an outer function that will accept two parameters, a and b\n",
        "● Create an inner function inside an outer function that will calculate\n",
        "the addition of a and b\n",
        "● At last, an outer function will add 5 into addition and return it"
      ],
      "metadata": {
        "id": "FODhjtV5-xFj"
      }
    },
    {
      "cell_type": "code",
      "source": [
        "def fun1(a, b):\n",
        "\n",
        "    def add(a, b):\n",
        "        return a + b\n",
        "\n",
        "    add = add(a, b)+5\n",
        "    return add\n",
        "\n",
        "result = fun1(5, 10)\n",
        "print(result)"
      ],
      "metadata": {
        "colab": {
          "base_uri": "https://localhost:8080/"
        },
        "id": "J0DYLL7O-69C",
        "outputId": "73bbfe73-2f60-432c-e05e-d5aa1afa1d4d"
      },
      "execution_count": null,
      "outputs": [
        {
          "output_type": "stream",
          "name": "stdout",
          "text": [
            "20\n"
          ]
        }
      ]
    },
    {
      "cell_type": "markdown",
      "source": [
        "Exercise 3: Generate a Python list of all the even numbers\n",
        "between 4 to 30"
      ],
      "metadata": {
        "id": "Am03VHdj-7fH"
      }
    },
    {
      "cell_type": "code",
      "source": [
        "print(list(range(4, 30, 2)))"
      ],
      "metadata": {
        "colab": {
          "base_uri": "https://localhost:8080/"
        },
        "id": "qUznpL7l_Clx",
        "outputId": "503c3ef2-6b22-43f1-dbf6-f67ce462e834"
      },
      "execution_count": null,
      "outputs": [
        {
          "output_type": "stream",
          "name": "stdout",
          "text": [
            "[4, 6, 8, 10, 12, 14, 16, 18, 20, 22, 24, 26, 28]\n"
          ]
        }
      ]
    },
    {
      "cell_type": "markdown",
      "source": [
        "Exercise 4: Lambda Function to Check if value is in a List\n",
        "Given a list, the task is to write a Python program to check if the value exists in the list or not\n",
        "using the lambda function.\n"
      ],
      "metadata": {
        "id": "kxUL_m6v_DBz"
      }
    },
    {
      "cell_type": "markdown",
      "source": [],
      "metadata": {
        "id": "VwfDmKei-3aq"
      }
    },
    {
      "cell_type": "code",
      "source": [
        "list1=[1,2,3,4,5]\n",
        "element=2\n",
        "output=lambda list1,element: 1 if element in list1 else 0\n",
        "\n",
        "if(output(list1,element)==1):\n",
        "  print(\"Element is Present in the list\")\n",
        "else:\n",
        "  print(\"Element is NOT Present in the list\")"
      ],
      "metadata": {
        "colab": {
          "base_uri": "https://localhost:8080/"
        },
        "id": "k53Urf-Q_KMQ",
        "outputId": "a451dd20-65c1-484c-da9f-c6e9d74c70dd"
      },
      "execution_count": null,
      "outputs": [
        {
          "output_type": "stream",
          "name": "stdout",
          "text": [
            "Element is Present in the list\n"
          ]
        }
      ]
    },
    {
      "cell_type": "markdown",
      "source": [
        "Exercise 5: Sort list of tuples with their sum\n",
        "Sort the points based on their sum of elements in the tuples\n",
        "points = [(1, 2), (5, 3), (0, 7), (3, 1)]"
      ],
      "metadata": {
        "id": "GqLeG0rA_Ko4"
      }
    },
    {
      "cell_type": "code",
      "source": [
        "Values1= [(1, 2), (5, 3), (0, 7), (3, 1)]\n",
        "\n",
        "# Passing lambda as key to sort list of tuple\n",
        "Values1.sort(key = lambda x: x[0] + x[1])\n",
        "\n",
        "# Printing output\n",
        "print(\"\\nThe answer is\")\n",
        "print(Values1)"
      ],
      "metadata": {
        "colab": {
          "base_uri": "https://localhost:8080/"
        },
        "id": "nHTmGsFR_OWZ",
        "outputId": "9b31f099-1929-4699-f9a3-af01fb1b0ee3"
      },
      "execution_count": null,
      "outputs": [
        {
          "output_type": "stream",
          "name": "stdout",
          "text": [
            "\n",
            "The answer is\n",
            "[(1, 2), (3, 1), (0, 7), (5, 3)]\n"
          ]
        }
      ]
    },
    {
      "cell_type": "markdown",
      "source": [
        "Exercise 6 :\n",
        "Write a python function, which will find all such numbers between 1000 and 3000 (both\n",
        "included) such that each digit of the number is an even number. Return the results as a list"
      ],
      "metadata": {
        "id": "8iUtcRZ1_PYC"
      }
    },
    {
      "cell_type": "code",
      "source": [
        "def fun1(a,b):\n",
        "  item=[]\n",
        "  for i in range(a,b+1):\n",
        "    if i%2==0:\n",
        "      item.append(i)\n",
        "  return item\n",
        "\n",
        "fun1(1000,3000)"
      ],
      "metadata": {
        "colab": {
          "base_uri": "https://localhost:8080/"
        },
        "id": "jcFrsteS_SZ4",
        "outputId": "bfa3ba5a-c0fb-4960-d5b2-dd08b1ad0e74"
      },
      "execution_count": null,
      "outputs": [
        {
          "output_type": "execute_result",
          "data": {
            "text/plain": [
              "[1000,\n",
              " 1002,\n",
              " 1004,\n",
              " 1006,\n",
              " 1008,\n",
              " 1010,\n",
              " 1012,\n",
              " 1014,\n",
              " 1016,\n",
              " 1018,\n",
              " 1020,\n",
              " 1022,\n",
              " 1024,\n",
              " 1026,\n",
              " 1028,\n",
              " 1030,\n",
              " 1032,\n",
              " 1034,\n",
              " 1036,\n",
              " 1038,\n",
              " 1040,\n",
              " 1042,\n",
              " 1044,\n",
              " 1046,\n",
              " 1048,\n",
              " 1050,\n",
              " 1052,\n",
              " 1054,\n",
              " 1056,\n",
              " 1058,\n",
              " 1060,\n",
              " 1062,\n",
              " 1064,\n",
              " 1066,\n",
              " 1068,\n",
              " 1070,\n",
              " 1072,\n",
              " 1074,\n",
              " 1076,\n",
              " 1078,\n",
              " 1080,\n",
              " 1082,\n",
              " 1084,\n",
              " 1086,\n",
              " 1088,\n",
              " 1090,\n",
              " 1092,\n",
              " 1094,\n",
              " 1096,\n",
              " 1098,\n",
              " 1100,\n",
              " 1102,\n",
              " 1104,\n",
              " 1106,\n",
              " 1108,\n",
              " 1110,\n",
              " 1112,\n",
              " 1114,\n",
              " 1116,\n",
              " 1118,\n",
              " 1120,\n",
              " 1122,\n",
              " 1124,\n",
              " 1126,\n",
              " 1128,\n",
              " 1130,\n",
              " 1132,\n",
              " 1134,\n",
              " 1136,\n",
              " 1138,\n",
              " 1140,\n",
              " 1142,\n",
              " 1144,\n",
              " 1146,\n",
              " 1148,\n",
              " 1150,\n",
              " 1152,\n",
              " 1154,\n",
              " 1156,\n",
              " 1158,\n",
              " 1160,\n",
              " 1162,\n",
              " 1164,\n",
              " 1166,\n",
              " 1168,\n",
              " 1170,\n",
              " 1172,\n",
              " 1174,\n",
              " 1176,\n",
              " 1178,\n",
              " 1180,\n",
              " 1182,\n",
              " 1184,\n",
              " 1186,\n",
              " 1188,\n",
              " 1190,\n",
              " 1192,\n",
              " 1194,\n",
              " 1196,\n",
              " 1198,\n",
              " 1200,\n",
              " 1202,\n",
              " 1204,\n",
              " 1206,\n",
              " 1208,\n",
              " 1210,\n",
              " 1212,\n",
              " 1214,\n",
              " 1216,\n",
              " 1218,\n",
              " 1220,\n",
              " 1222,\n",
              " 1224,\n",
              " 1226,\n",
              " 1228,\n",
              " 1230,\n",
              " 1232,\n",
              " 1234,\n",
              " 1236,\n",
              " 1238,\n",
              " 1240,\n",
              " 1242,\n",
              " 1244,\n",
              " 1246,\n",
              " 1248,\n",
              " 1250,\n",
              " 1252,\n",
              " 1254,\n",
              " 1256,\n",
              " 1258,\n",
              " 1260,\n",
              " 1262,\n",
              " 1264,\n",
              " 1266,\n",
              " 1268,\n",
              " 1270,\n",
              " 1272,\n",
              " 1274,\n",
              " 1276,\n",
              " 1278,\n",
              " 1280,\n",
              " 1282,\n",
              " 1284,\n",
              " 1286,\n",
              " 1288,\n",
              " 1290,\n",
              " 1292,\n",
              " 1294,\n",
              " 1296,\n",
              " 1298,\n",
              " 1300,\n",
              " 1302,\n",
              " 1304,\n",
              " 1306,\n",
              " 1308,\n",
              " 1310,\n",
              " 1312,\n",
              " 1314,\n",
              " 1316,\n",
              " 1318,\n",
              " 1320,\n",
              " 1322,\n",
              " 1324,\n",
              " 1326,\n",
              " 1328,\n",
              " 1330,\n",
              " 1332,\n",
              " 1334,\n",
              " 1336,\n",
              " 1338,\n",
              " 1340,\n",
              " 1342,\n",
              " 1344,\n",
              " 1346,\n",
              " 1348,\n",
              " 1350,\n",
              " 1352,\n",
              " 1354,\n",
              " 1356,\n",
              " 1358,\n",
              " 1360,\n",
              " 1362,\n",
              " 1364,\n",
              " 1366,\n",
              " 1368,\n",
              " 1370,\n",
              " 1372,\n",
              " 1374,\n",
              " 1376,\n",
              " 1378,\n",
              " 1380,\n",
              " 1382,\n",
              " 1384,\n",
              " 1386,\n",
              " 1388,\n",
              " 1390,\n",
              " 1392,\n",
              " 1394,\n",
              " 1396,\n",
              " 1398,\n",
              " 1400,\n",
              " 1402,\n",
              " 1404,\n",
              " 1406,\n",
              " 1408,\n",
              " 1410,\n",
              " 1412,\n",
              " 1414,\n",
              " 1416,\n",
              " 1418,\n",
              " 1420,\n",
              " 1422,\n",
              " 1424,\n",
              " 1426,\n",
              " 1428,\n",
              " 1430,\n",
              " 1432,\n",
              " 1434,\n",
              " 1436,\n",
              " 1438,\n",
              " 1440,\n",
              " 1442,\n",
              " 1444,\n",
              " 1446,\n",
              " 1448,\n",
              " 1450,\n",
              " 1452,\n",
              " 1454,\n",
              " 1456,\n",
              " 1458,\n",
              " 1460,\n",
              " 1462,\n",
              " 1464,\n",
              " 1466,\n",
              " 1468,\n",
              " 1470,\n",
              " 1472,\n",
              " 1474,\n",
              " 1476,\n",
              " 1478,\n",
              " 1480,\n",
              " 1482,\n",
              " 1484,\n",
              " 1486,\n",
              " 1488,\n",
              " 1490,\n",
              " 1492,\n",
              " 1494,\n",
              " 1496,\n",
              " 1498,\n",
              " 1500,\n",
              " 1502,\n",
              " 1504,\n",
              " 1506,\n",
              " 1508,\n",
              " 1510,\n",
              " 1512,\n",
              " 1514,\n",
              " 1516,\n",
              " 1518,\n",
              " 1520,\n",
              " 1522,\n",
              " 1524,\n",
              " 1526,\n",
              " 1528,\n",
              " 1530,\n",
              " 1532,\n",
              " 1534,\n",
              " 1536,\n",
              " 1538,\n",
              " 1540,\n",
              " 1542,\n",
              " 1544,\n",
              " 1546,\n",
              " 1548,\n",
              " 1550,\n",
              " 1552,\n",
              " 1554,\n",
              " 1556,\n",
              " 1558,\n",
              " 1560,\n",
              " 1562,\n",
              " 1564,\n",
              " 1566,\n",
              " 1568,\n",
              " 1570,\n",
              " 1572,\n",
              " 1574,\n",
              " 1576,\n",
              " 1578,\n",
              " 1580,\n",
              " 1582,\n",
              " 1584,\n",
              " 1586,\n",
              " 1588,\n",
              " 1590,\n",
              " 1592,\n",
              " 1594,\n",
              " 1596,\n",
              " 1598,\n",
              " 1600,\n",
              " 1602,\n",
              " 1604,\n",
              " 1606,\n",
              " 1608,\n",
              " 1610,\n",
              " 1612,\n",
              " 1614,\n",
              " 1616,\n",
              " 1618,\n",
              " 1620,\n",
              " 1622,\n",
              " 1624,\n",
              " 1626,\n",
              " 1628,\n",
              " 1630,\n",
              " 1632,\n",
              " 1634,\n",
              " 1636,\n",
              " 1638,\n",
              " 1640,\n",
              " 1642,\n",
              " 1644,\n",
              " 1646,\n",
              " 1648,\n",
              " 1650,\n",
              " 1652,\n",
              " 1654,\n",
              " 1656,\n",
              " 1658,\n",
              " 1660,\n",
              " 1662,\n",
              " 1664,\n",
              " 1666,\n",
              " 1668,\n",
              " 1670,\n",
              " 1672,\n",
              " 1674,\n",
              " 1676,\n",
              " 1678,\n",
              " 1680,\n",
              " 1682,\n",
              " 1684,\n",
              " 1686,\n",
              " 1688,\n",
              " 1690,\n",
              " 1692,\n",
              " 1694,\n",
              " 1696,\n",
              " 1698,\n",
              " 1700,\n",
              " 1702,\n",
              " 1704,\n",
              " 1706,\n",
              " 1708,\n",
              " 1710,\n",
              " 1712,\n",
              " 1714,\n",
              " 1716,\n",
              " 1718,\n",
              " 1720,\n",
              " 1722,\n",
              " 1724,\n",
              " 1726,\n",
              " 1728,\n",
              " 1730,\n",
              " 1732,\n",
              " 1734,\n",
              " 1736,\n",
              " 1738,\n",
              " 1740,\n",
              " 1742,\n",
              " 1744,\n",
              " 1746,\n",
              " 1748,\n",
              " 1750,\n",
              " 1752,\n",
              " 1754,\n",
              " 1756,\n",
              " 1758,\n",
              " 1760,\n",
              " 1762,\n",
              " 1764,\n",
              " 1766,\n",
              " 1768,\n",
              " 1770,\n",
              " 1772,\n",
              " 1774,\n",
              " 1776,\n",
              " 1778,\n",
              " 1780,\n",
              " 1782,\n",
              " 1784,\n",
              " 1786,\n",
              " 1788,\n",
              " 1790,\n",
              " 1792,\n",
              " 1794,\n",
              " 1796,\n",
              " 1798,\n",
              " 1800,\n",
              " 1802,\n",
              " 1804,\n",
              " 1806,\n",
              " 1808,\n",
              " 1810,\n",
              " 1812,\n",
              " 1814,\n",
              " 1816,\n",
              " 1818,\n",
              " 1820,\n",
              " 1822,\n",
              " 1824,\n",
              " 1826,\n",
              " 1828,\n",
              " 1830,\n",
              " 1832,\n",
              " 1834,\n",
              " 1836,\n",
              " 1838,\n",
              " 1840,\n",
              " 1842,\n",
              " 1844,\n",
              " 1846,\n",
              " 1848,\n",
              " 1850,\n",
              " 1852,\n",
              " 1854,\n",
              " 1856,\n",
              " 1858,\n",
              " 1860,\n",
              " 1862,\n",
              " 1864,\n",
              " 1866,\n",
              " 1868,\n",
              " 1870,\n",
              " 1872,\n",
              " 1874,\n",
              " 1876,\n",
              " 1878,\n",
              " 1880,\n",
              " 1882,\n",
              " 1884,\n",
              " 1886,\n",
              " 1888,\n",
              " 1890,\n",
              " 1892,\n",
              " 1894,\n",
              " 1896,\n",
              " 1898,\n",
              " 1900,\n",
              " 1902,\n",
              " 1904,\n",
              " 1906,\n",
              " 1908,\n",
              " 1910,\n",
              " 1912,\n",
              " 1914,\n",
              " 1916,\n",
              " 1918,\n",
              " 1920,\n",
              " 1922,\n",
              " 1924,\n",
              " 1926,\n",
              " 1928,\n",
              " 1930,\n",
              " 1932,\n",
              " 1934,\n",
              " 1936,\n",
              " 1938,\n",
              " 1940,\n",
              " 1942,\n",
              " 1944,\n",
              " 1946,\n",
              " 1948,\n",
              " 1950,\n",
              " 1952,\n",
              " 1954,\n",
              " 1956,\n",
              " 1958,\n",
              " 1960,\n",
              " 1962,\n",
              " 1964,\n",
              " 1966,\n",
              " 1968,\n",
              " 1970,\n",
              " 1972,\n",
              " 1974,\n",
              " 1976,\n",
              " 1978,\n",
              " 1980,\n",
              " 1982,\n",
              " 1984,\n",
              " 1986,\n",
              " 1988,\n",
              " 1990,\n",
              " 1992,\n",
              " 1994,\n",
              " 1996,\n",
              " 1998,\n",
              " 2000,\n",
              " 2002,\n",
              " 2004,\n",
              " 2006,\n",
              " 2008,\n",
              " 2010,\n",
              " 2012,\n",
              " 2014,\n",
              " 2016,\n",
              " 2018,\n",
              " 2020,\n",
              " 2022,\n",
              " 2024,\n",
              " 2026,\n",
              " 2028,\n",
              " 2030,\n",
              " 2032,\n",
              " 2034,\n",
              " 2036,\n",
              " 2038,\n",
              " 2040,\n",
              " 2042,\n",
              " 2044,\n",
              " 2046,\n",
              " 2048,\n",
              " 2050,\n",
              " 2052,\n",
              " 2054,\n",
              " 2056,\n",
              " 2058,\n",
              " 2060,\n",
              " 2062,\n",
              " 2064,\n",
              " 2066,\n",
              " 2068,\n",
              " 2070,\n",
              " 2072,\n",
              " 2074,\n",
              " 2076,\n",
              " 2078,\n",
              " 2080,\n",
              " 2082,\n",
              " 2084,\n",
              " 2086,\n",
              " 2088,\n",
              " 2090,\n",
              " 2092,\n",
              " 2094,\n",
              " 2096,\n",
              " 2098,\n",
              " 2100,\n",
              " 2102,\n",
              " 2104,\n",
              " 2106,\n",
              " 2108,\n",
              " 2110,\n",
              " 2112,\n",
              " 2114,\n",
              " 2116,\n",
              " 2118,\n",
              " 2120,\n",
              " 2122,\n",
              " 2124,\n",
              " 2126,\n",
              " 2128,\n",
              " 2130,\n",
              " 2132,\n",
              " 2134,\n",
              " 2136,\n",
              " 2138,\n",
              " 2140,\n",
              " 2142,\n",
              " 2144,\n",
              " 2146,\n",
              " 2148,\n",
              " 2150,\n",
              " 2152,\n",
              " 2154,\n",
              " 2156,\n",
              " 2158,\n",
              " 2160,\n",
              " 2162,\n",
              " 2164,\n",
              " 2166,\n",
              " 2168,\n",
              " 2170,\n",
              " 2172,\n",
              " 2174,\n",
              " 2176,\n",
              " 2178,\n",
              " 2180,\n",
              " 2182,\n",
              " 2184,\n",
              " 2186,\n",
              " 2188,\n",
              " 2190,\n",
              " 2192,\n",
              " 2194,\n",
              " 2196,\n",
              " 2198,\n",
              " 2200,\n",
              " 2202,\n",
              " 2204,\n",
              " 2206,\n",
              " 2208,\n",
              " 2210,\n",
              " 2212,\n",
              " 2214,\n",
              " 2216,\n",
              " 2218,\n",
              " 2220,\n",
              " 2222,\n",
              " 2224,\n",
              " 2226,\n",
              " 2228,\n",
              " 2230,\n",
              " 2232,\n",
              " 2234,\n",
              " 2236,\n",
              " 2238,\n",
              " 2240,\n",
              " 2242,\n",
              " 2244,\n",
              " 2246,\n",
              " 2248,\n",
              " 2250,\n",
              " 2252,\n",
              " 2254,\n",
              " 2256,\n",
              " 2258,\n",
              " 2260,\n",
              " 2262,\n",
              " 2264,\n",
              " 2266,\n",
              " 2268,\n",
              " 2270,\n",
              " 2272,\n",
              " 2274,\n",
              " 2276,\n",
              " 2278,\n",
              " 2280,\n",
              " 2282,\n",
              " 2284,\n",
              " 2286,\n",
              " 2288,\n",
              " 2290,\n",
              " 2292,\n",
              " 2294,\n",
              " 2296,\n",
              " 2298,\n",
              " 2300,\n",
              " 2302,\n",
              " 2304,\n",
              " 2306,\n",
              " 2308,\n",
              " 2310,\n",
              " 2312,\n",
              " 2314,\n",
              " 2316,\n",
              " 2318,\n",
              " 2320,\n",
              " 2322,\n",
              " 2324,\n",
              " 2326,\n",
              " 2328,\n",
              " 2330,\n",
              " 2332,\n",
              " 2334,\n",
              " 2336,\n",
              " 2338,\n",
              " 2340,\n",
              " 2342,\n",
              " 2344,\n",
              " 2346,\n",
              " 2348,\n",
              " 2350,\n",
              " 2352,\n",
              " 2354,\n",
              " 2356,\n",
              " 2358,\n",
              " 2360,\n",
              " 2362,\n",
              " 2364,\n",
              " 2366,\n",
              " 2368,\n",
              " 2370,\n",
              " 2372,\n",
              " 2374,\n",
              " 2376,\n",
              " 2378,\n",
              " 2380,\n",
              " 2382,\n",
              " 2384,\n",
              " 2386,\n",
              " 2388,\n",
              " 2390,\n",
              " 2392,\n",
              " 2394,\n",
              " 2396,\n",
              " 2398,\n",
              " 2400,\n",
              " 2402,\n",
              " 2404,\n",
              " 2406,\n",
              " 2408,\n",
              " 2410,\n",
              " 2412,\n",
              " 2414,\n",
              " 2416,\n",
              " 2418,\n",
              " 2420,\n",
              " 2422,\n",
              " 2424,\n",
              " 2426,\n",
              " 2428,\n",
              " 2430,\n",
              " 2432,\n",
              " 2434,\n",
              " 2436,\n",
              " 2438,\n",
              " 2440,\n",
              " 2442,\n",
              " 2444,\n",
              " 2446,\n",
              " 2448,\n",
              " 2450,\n",
              " 2452,\n",
              " 2454,\n",
              " 2456,\n",
              " 2458,\n",
              " 2460,\n",
              " 2462,\n",
              " 2464,\n",
              " 2466,\n",
              " 2468,\n",
              " 2470,\n",
              " 2472,\n",
              " 2474,\n",
              " 2476,\n",
              " 2478,\n",
              " 2480,\n",
              " 2482,\n",
              " 2484,\n",
              " 2486,\n",
              " 2488,\n",
              " 2490,\n",
              " 2492,\n",
              " 2494,\n",
              " 2496,\n",
              " 2498,\n",
              " 2500,\n",
              " 2502,\n",
              " 2504,\n",
              " 2506,\n",
              " 2508,\n",
              " 2510,\n",
              " 2512,\n",
              " 2514,\n",
              " 2516,\n",
              " 2518,\n",
              " 2520,\n",
              " 2522,\n",
              " 2524,\n",
              " 2526,\n",
              " 2528,\n",
              " 2530,\n",
              " 2532,\n",
              " 2534,\n",
              " 2536,\n",
              " 2538,\n",
              " 2540,\n",
              " 2542,\n",
              " 2544,\n",
              " 2546,\n",
              " 2548,\n",
              " 2550,\n",
              " 2552,\n",
              " 2554,\n",
              " 2556,\n",
              " 2558,\n",
              " 2560,\n",
              " 2562,\n",
              " 2564,\n",
              " 2566,\n",
              " 2568,\n",
              " 2570,\n",
              " 2572,\n",
              " 2574,\n",
              " 2576,\n",
              " 2578,\n",
              " 2580,\n",
              " 2582,\n",
              " 2584,\n",
              " 2586,\n",
              " 2588,\n",
              " 2590,\n",
              " 2592,\n",
              " 2594,\n",
              " 2596,\n",
              " 2598,\n",
              " 2600,\n",
              " 2602,\n",
              " 2604,\n",
              " 2606,\n",
              " 2608,\n",
              " 2610,\n",
              " 2612,\n",
              " 2614,\n",
              " 2616,\n",
              " 2618,\n",
              " 2620,\n",
              " 2622,\n",
              " 2624,\n",
              " 2626,\n",
              " 2628,\n",
              " 2630,\n",
              " 2632,\n",
              " 2634,\n",
              " 2636,\n",
              " 2638,\n",
              " 2640,\n",
              " 2642,\n",
              " 2644,\n",
              " 2646,\n",
              " 2648,\n",
              " 2650,\n",
              " 2652,\n",
              " 2654,\n",
              " 2656,\n",
              " 2658,\n",
              " 2660,\n",
              " 2662,\n",
              " 2664,\n",
              " 2666,\n",
              " 2668,\n",
              " 2670,\n",
              " 2672,\n",
              " 2674,\n",
              " 2676,\n",
              " 2678,\n",
              " 2680,\n",
              " 2682,\n",
              " 2684,\n",
              " 2686,\n",
              " 2688,\n",
              " 2690,\n",
              " 2692,\n",
              " 2694,\n",
              " 2696,\n",
              " 2698,\n",
              " 2700,\n",
              " 2702,\n",
              " 2704,\n",
              " 2706,\n",
              " 2708,\n",
              " 2710,\n",
              " 2712,\n",
              " 2714,\n",
              " 2716,\n",
              " 2718,\n",
              " 2720,\n",
              " 2722,\n",
              " 2724,\n",
              " 2726,\n",
              " 2728,\n",
              " 2730,\n",
              " 2732,\n",
              " 2734,\n",
              " 2736,\n",
              " 2738,\n",
              " 2740,\n",
              " 2742,\n",
              " 2744,\n",
              " 2746,\n",
              " 2748,\n",
              " 2750,\n",
              " 2752,\n",
              " 2754,\n",
              " 2756,\n",
              " 2758,\n",
              " 2760,\n",
              " 2762,\n",
              " 2764,\n",
              " 2766,\n",
              " 2768,\n",
              " 2770,\n",
              " 2772,\n",
              " 2774,\n",
              " 2776,\n",
              " 2778,\n",
              " 2780,\n",
              " 2782,\n",
              " 2784,\n",
              " 2786,\n",
              " 2788,\n",
              " 2790,\n",
              " 2792,\n",
              " 2794,\n",
              " 2796,\n",
              " 2798,\n",
              " 2800,\n",
              " 2802,\n",
              " 2804,\n",
              " 2806,\n",
              " 2808,\n",
              " 2810,\n",
              " 2812,\n",
              " 2814,\n",
              " 2816,\n",
              " 2818,\n",
              " 2820,\n",
              " 2822,\n",
              " 2824,\n",
              " 2826,\n",
              " 2828,\n",
              " 2830,\n",
              " 2832,\n",
              " 2834,\n",
              " 2836,\n",
              " 2838,\n",
              " 2840,\n",
              " 2842,\n",
              " 2844,\n",
              " 2846,\n",
              " 2848,\n",
              " 2850,\n",
              " 2852,\n",
              " 2854,\n",
              " 2856,\n",
              " 2858,\n",
              " 2860,\n",
              " 2862,\n",
              " 2864,\n",
              " 2866,\n",
              " 2868,\n",
              " 2870,\n",
              " 2872,\n",
              " 2874,\n",
              " 2876,\n",
              " 2878,\n",
              " 2880,\n",
              " 2882,\n",
              " 2884,\n",
              " 2886,\n",
              " 2888,\n",
              " 2890,\n",
              " 2892,\n",
              " 2894,\n",
              " 2896,\n",
              " 2898,\n",
              " 2900,\n",
              " 2902,\n",
              " 2904,\n",
              " 2906,\n",
              " 2908,\n",
              " 2910,\n",
              " 2912,\n",
              " 2914,\n",
              " 2916,\n",
              " 2918,\n",
              " 2920,\n",
              " 2922,\n",
              " 2924,\n",
              " 2926,\n",
              " 2928,\n",
              " 2930,\n",
              " 2932,\n",
              " 2934,\n",
              " 2936,\n",
              " 2938,\n",
              " 2940,\n",
              " 2942,\n",
              " 2944,\n",
              " 2946,\n",
              " 2948,\n",
              " 2950,\n",
              " 2952,\n",
              " 2954,\n",
              " 2956,\n",
              " 2958,\n",
              " 2960,\n",
              " 2962,\n",
              " 2964,\n",
              " 2966,\n",
              " 2968,\n",
              " 2970,\n",
              " 2972,\n",
              " 2974,\n",
              " 2976,\n",
              " 2978,\n",
              " 2980,\n",
              " 2982,\n",
              " 2984,\n",
              " 2986,\n",
              " 2988,\n",
              " 2990,\n",
              " 2992,\n",
              " 2994,\n",
              " 2996,\n",
              " 2998,\n",
              " ...]"
            ]
          },
          "metadata": {},
          "execution_count": 27
        }
      ]
    },
    {
      "cell_type": "markdown",
      "source": [
        "Exercise 7 :\n",
        "Write a python function that accepts a sentence and calculate and return the number of letters\n",
        "and digits.\n",
        "Suppose the following input is supplied to the program:\n",
        "hello world! 123\n",
        "Then, the output should be:\n",
        "LETTERS 10\n",
        "DIGITS 3\n"
      ],
      "metadata": {
        "id": "vNq40sJo_Stq"
      }
    },
    {
      "cell_type": "code",
      "source": [
        "def fun1(sentence):\n",
        "    letter = 0\n",
        "    digit= 0\n",
        "    for char in sentence:\n",
        "        if char.isalpha():\n",
        "            letter+= 1\n",
        "        elif char.isdigit():\n",
        "            digit += 1\n",
        "    return letter, digit\n",
        "input = \"hello world! 123\"\n",
        "result_letters, result_digits =fun1(input)\n",
        "\n",
        "# Display the result\n",
        "print(\"LETTERS:\", result_letters)\n",
        "print(\"DIGITS\", result_digits)"
      ],
      "metadata": {
        "colab": {
          "base_uri": "https://localhost:8080/"
        },
        "id": "3zZpAwPu_WZ7",
        "outputId": "2945133f-aa77-4f6e-a7bf-8118e4788344"
      },
      "execution_count": null,
      "outputs": [
        {
          "output_type": "stream",
          "name": "stdout",
          "text": [
            "LETTERS: 10\n",
            "DIGITS 3\n"
          ]
        }
      ]
    },
    {
      "cell_type": "markdown",
      "source": [
        "Exercise 8 MAP:\n",
        "Write a Python program to convert all the characters into uppercase and\n",
        "lowercase and eliminate duplicate letters from a given sequence. Use the map()\n",
        "function"
      ],
      "metadata": {
        "id": "ry4qb8yr_W4n"
      }
    },
    {
      "cell_type": "code",
      "source": [
        "def fun1(s):\n",
        "    return str(s).upper(), str(s).lower()\n",
        "chars = {'N','a', 'b', 'E','l','f', 'a', 'i', 'o', 'U', 'a'}\n",
        "result = map(fun1,chars)\n",
        "print(set(result))"
      ],
      "metadata": {
        "colab": {
          "base_uri": "https://localhost:8080/"
        },
        "id": "Ol_KvVgZ_Z_r",
        "outputId": "2d725557-773c-463d-fcc0-22d6b9e48803"
      },
      "execution_count": null,
      "outputs": [
        {
          "output_type": "stream",
          "name": "stdout",
          "text": [
            "{('N', 'n'), ('O', 'o'), ('B', 'b'), ('A', 'a'), ('I', 'i'), ('U', 'u'), ('E', 'e'), ('L', 'l'), ('F', 'f')}\n"
          ]
        }
      ]
    },
    {
      "cell_type": "markdown",
      "source": [
        "Exercise 9 MAP:\n",
        "Write a Python program to add two given lists and find the difference between\n",
        "them. Use the map() function"
      ],
      "metadata": {
        "id": "WHnodz2v_aOw"
      }
    },
    {
      "cell_type": "code",
      "source": [
        "list1=[1,2,3,4]\n",
        "list2=[5,6,7,8]\n",
        "sum=map(lambda a,b:a+b,list1,list2)\n",
        "diff=map(lambda a,b:b-a,list1,list2)\n",
        "print(list(sum))\n",
        "print(list(diff))"
      ],
      "metadata": {
        "colab": {
          "base_uri": "https://localhost:8080/",
          "height": 228
        },
        "id": "qomTQaGcPEo1",
        "outputId": "3f14696b-1b6c-46a5-b717-f668ce191073"
      },
      "execution_count": null,
      "outputs": [
        {
          "output_type": "error",
          "ename": "TypeError",
          "evalue": "ignored",
          "traceback": [
            "\u001b[0;31m---------------------------------------------------------------------------\u001b[0m",
            "\u001b[0;31mTypeError\u001b[0m                                 Traceback (most recent call last)",
            "\u001b[0;32m<ipython-input-48-a50c16acb3e2>\u001b[0m in \u001b[0;36m<cell line: 5>\u001b[0;34m()\u001b[0m\n\u001b[1;32m      3\u001b[0m \u001b[0msum\u001b[0m\u001b[0;34m=\u001b[0m\u001b[0mmap\u001b[0m\u001b[0;34m(\u001b[0m\u001b[0;32mlambda\u001b[0m \u001b[0ma\u001b[0m\u001b[0;34m,\u001b[0m\u001b[0mb\u001b[0m\u001b[0;34m:\u001b[0m\u001b[0ma\u001b[0m\u001b[0;34m+\u001b[0m\u001b[0mb\u001b[0m\u001b[0;34m,\u001b[0m\u001b[0mlist1\u001b[0m\u001b[0;34m,\u001b[0m\u001b[0mlist2\u001b[0m\u001b[0;34m)\u001b[0m\u001b[0;34m\u001b[0m\u001b[0;34m\u001b[0m\u001b[0m\n\u001b[1;32m      4\u001b[0m \u001b[0mdiff\u001b[0m\u001b[0;34m=\u001b[0m\u001b[0mmap\u001b[0m\u001b[0;34m(\u001b[0m\u001b[0;32mlambda\u001b[0m \u001b[0ma\u001b[0m\u001b[0;34m,\u001b[0m\u001b[0mb\u001b[0m\u001b[0;34m:\u001b[0m\u001b[0mb\u001b[0m\u001b[0;34m-\u001b[0m\u001b[0ma\u001b[0m\u001b[0;34m,\u001b[0m\u001b[0mlist1\u001b[0m\u001b[0;34m,\u001b[0m\u001b[0mlist2\u001b[0m\u001b[0;34m)\u001b[0m\u001b[0;34m\u001b[0m\u001b[0;34m\u001b[0m\u001b[0m\n\u001b[0;32m----> 5\u001b[0;31m \u001b[0mprint\u001b[0m\u001b[0;34m(\u001b[0m\u001b[0mlist\u001b[0m\u001b[0;34m(\u001b[0m\u001b[0msum\u001b[0m\u001b[0;34m)\u001b[0m\u001b[0;34m)\u001b[0m\u001b[0;34m\u001b[0m\u001b[0;34m\u001b[0m\u001b[0m\n\u001b[0m\u001b[1;32m      6\u001b[0m \u001b[0mprint\u001b[0m\u001b[0;34m(\u001b[0m\u001b[0mlist\u001b[0m\u001b[0;34m(\u001b[0m\u001b[0mdiff\u001b[0m\u001b[0;34m)\u001b[0m\u001b[0;34m)\u001b[0m\u001b[0;34m\u001b[0m\u001b[0;34m\u001b[0m\u001b[0m\n",
            "\u001b[0;31mTypeError\u001b[0m: 'list' object is not callable"
          ]
        }
      ]
    },
    {
      "cell_type": "markdown",
      "source": [
        "Exercise 10 Filter:\n",
        "Write a Python program to filter the height and weight of students, which are\n",
        "stored in a dictionary using lambda.\n",
        "Original Dictionary:\n",
        "{'Cierra Vega': (6.2, 71), 'Alden Cantrell': (5.9, 65), 'Kierra Gentry': (6.0, 68),\n",
        "'Pierre Cox': (5.8, 66)}\n",
        "Height> 6ft and Weight> 70kg:\n",
        "{'Cierra Vega': (6.2, 71)}"
      ],
      "metadata": {
        "id": "wIh3U4aP_lxl"
      }
    },
    {
      "cell_type": "code",
      "source": [
        "def filter_fun(students):\n",
        "    result = dict(filter(lambda x: (x[1][0], x[1][1]) > (6.0, 70), students.items()))\n",
        "    return result\n",
        "students = {\n",
        "    'Cierra Vega': (6.2, 70),\n",
        "    'Alden Cantrell': (5.9, 65),\n",
        "    'Kierra Gentry': (6.0, 68),\n",
        "    'Pierre Cox': (5.8, 66)\n",
        "}\n",
        "print(filter_fun(students))"
      ],
      "metadata": {
        "colab": {
          "base_uri": "https://localhost:8080/"
        },
        "id": "ZtMmrQR3_rDI",
        "outputId": "77a77eb5-2b4a-4d24-ad7a-a10c1f3b454a"
      },
      "execution_count": null,
      "outputs": [
        {
          "output_type": "stream",
          "name": "stdout",
          "text": [
            "{'Cierra Vega': (6.2, 70)}\n"
          ]
        }
      ]
    },
    {
      "cell_type": "markdown",
      "source": [
        "Exercise 11 Filter:\n",
        "Write a Python program to remove all elements from a given list present in\n",
        "another list using lambda.\n",
        "Original lists:\n",
        "list1: [1, 2, 3, 4, 5, 6, 7, 8, 9, 10]\n",
        "list2: [2, 4, 6, 8]\n",
        "Remove all elements from 'list1' present in 'list2:\n",
        "[1, 3, 5, 7, 9, 10]\n"
      ],
      "metadata": {
        "id": "gUDcIOSQ_zCw"
      }
    },
    {
      "cell_type": "code",
      "source": [
        "def fun1(list1, list2):\n",
        "    result = list(filter(lambda x: x not in list2, list1))\n",
        "    return result\n",
        "list1 = [1, 2, 3, 4, 5, 6, 7, 8, 9, 10]\n",
        "list2 = [2, 4, 6, 8]\n",
        "print(fun1(list1, list2))"
      ],
      "metadata": {
        "id": "4PY-VOgu_2nI",
        "colab": {
          "base_uri": "https://localhost:8080/"
        },
        "outputId": "40c5ebee-582e-4774-81bb-696cfe2766ff"
      },
      "execution_count": 1,
      "outputs": [
        {
          "output_type": "stream",
          "name": "stdout",
          "text": [
            "[1, 3, 5, 7, 9, 10]\n"
          ]
        }
      ]
    },
    {
      "cell_type": "markdown",
      "source": [
        "Exercise 12 Reduce:\n",
        "Write a Python program to calculate the product of a given list of numbers using\n",
        "lambda.\n",
        "list1: [1, 2, 3, 4, 5, 6, 7, 8, 9, 10]\n",
        "Product of the said list numbers:\n",
        "3628800"
      ],
      "metadata": {
        "id": "2sqTUvmr_3DV"
      }
    },
    {
      "cell_type": "code",
      "source": [
        "import functools\n",
        "list1=[1,2,3,4,5,6,7,8,9,10]\n",
        "f1=functools.reduce(lambda a,b:a*b,list1)\n",
        "print(\"The product of the numbers is \",f1)"
      ],
      "metadata": {
        "id": "ZgajPVUb_6Yr",
        "colab": {
          "base_uri": "https://localhost:8080/"
        },
        "outputId": "7bcdea77-4076-4d16-9c90-ca0ab66c1abe"
      },
      "execution_count": 2,
      "outputs": [
        {
          "output_type": "stream",
          "name": "stdout",
          "text": [
            "The product of the numbers is  3628800\n"
          ]
        }
      ]
    },
    {
      "cell_type": "markdown",
      "source": [
        "Exercise 13 Reduce:\n",
        "Write a Python program to multiply all the numbers in a given list using lambda.\n",
        "Original list:\n",
        "[4, 3, 2, 2, -1, 18]\n",
        "Mmultiply all the numbers of the said list: -864\n"
      ],
      "metadata": {
        "id": "nxIcbyPq_6ob"
      }
    },
    {
      "cell_type": "code",
      "source": [
        "import functools\n",
        "list1=[4, 3, 2, 2, -1, 18]\n",
        "f1=functools.reduce(lambda a,b:a*b,list1)\n",
        "print(\"The product of the numbers is \",f1)"
      ],
      "metadata": {
        "id": "qd9GwVMq_-qb",
        "colab": {
          "base_uri": "https://localhost:8080/"
        },
        "outputId": "f831bf72-3bb6-4eb7-d6a6-74d6d7bccfa8"
      },
      "execution_count": 3,
      "outputs": [
        {
          "output_type": "stream",
          "name": "stdout",
          "text": [
            "The product of the numbers is  -864\n"
          ]
        }
      ]
    },
    {
      "cell_type": "markdown",
      "source": [
        "Exercise 14 Reduce:\n",
        "Write a Python program to calculate the average value of the numbers in a given\n",
        "tuple of tuples using lambda.\n",
        "Original Tuple:\n",
        "((10, 10, 10), (30, 45, 56), (81, 80, 39), (1, 2, 3))\n",
        "Average value of the numbers of the said tuple of tuples:\n",
        "(30.5, 34.25, 27.0)\n"
      ],
      "metadata": {
        "id": "Pw9F7NOJ_-69"
      }
    },
    {
      "cell_type": "code",
      "source": [
        "orginal=((10,10,10),(30,45,56),(81,80,39),(1,2,3))\n",
        "average=tuple(map(lambda num:sum(num)/len(num),zip(*orginal)))\n",
        "print(average)"
      ],
      "metadata": {
        "id": "3YVPjEhCADEL",
        "colab": {
          "base_uri": "https://localhost:8080/"
        },
        "outputId": "93476676-45e1-4efd-b516-9e7d151d8960"
      },
      "execution_count": 4,
      "outputs": [
        {
          "output_type": "stream",
          "name": "stdout",
          "text": [
            "(30.5, 34.25, 27.0)\n"
          ]
        }
      ]
    },
    {
      "cell_type": "markdown",
      "source": [
        "Exercise 15:\n",
        "Write a Python program to sort a given mixed list of integers and strings using\n",
        "lambda. Numbers must be sorted before strings.\n",
        "Original list:\n",
        "[19, 'red', 12, 'green', 'blue', 10, 'white', 'green', 1]\n",
        "Sort the said mixed list of integers and strings:\n",
        "[1, 10, 12, 19, 'blue', 'green', 'green', 'red', 'white']\n"
      ],
      "metadata": {
        "id": "XDvSvg0TADT2"
      }
    },
    {
      "cell_type": "code",
      "source": [
        "list1 = [19, 'red', 12, 'green', 'blue', 10, 'white', 'green', 1]\n",
        "\n",
        "l1 = []\n",
        "l2=[]\n",
        "for i in list1:\n",
        "    if isinstance(i,int):\n",
        "        l1.append(i)\n",
        "    else:\n",
        "        l2.append(i)\n",
        "l1.sort()\n",
        "l1.sort()\n",
        "l1.extend(l2)\n",
        "print(str(l1))\n"
      ],
      "metadata": {
        "id": "rE3C6n1CAG2N",
        "colab": {
          "base_uri": "https://localhost:8080/"
        },
        "outputId": "050154c9-648c-4eec-9f7e-1686ffef7bf3"
      },
      "execution_count": 10,
      "outputs": [
        {
          "output_type": "stream",
          "name": "stdout",
          "text": [
            "[1, 10, 12, 19, 'red', 'green', 'blue', 'white', 'green']\n"
          ]
        }
      ]
    },
    {
      "cell_type": "markdown",
      "source": [
        "Exercise 16:\n",
        "Write a Python program to count the occurrences of items in a given list using\n",
        "lambda.\n",
        "Original list:\n",
        "[3, 4, 5, 8, 0, 3, 8, 5, 0, 3, 1, 5, 2, 3, 4, 2]\n",
        "Count the occurrences of the items in the said list:\n",
        "{3: 4, 4: 2, 5: 3, 8: 2, 0: 2, 1: 1, 2: 2}\n"
      ],
      "metadata": {
        "id": "GtQjKoNkAHG4"
      }
    },
    {
      "cell_type": "code",
      "source": [
        "list1=[3, 4, 5, 8, 0, 3, 8, 5, 0, 3, 1, 5, 2, 3, 4, 2]\n",
        "result=dict(map((lambda x:(x,list1.count(x))),list1))\n",
        "print(result)"
      ],
      "metadata": {
        "id": "SvXKj4dMAK2h",
        "colab": {
          "base_uri": "https://localhost:8080/"
        },
        "outputId": "d4e71213-501c-4d90-be19-5c44baa8e331"
      },
      "execution_count": 11,
      "outputs": [
        {
          "output_type": "stream",
          "name": "stdout",
          "text": [
            "{3: 4, 4: 2, 5: 3, 8: 2, 0: 2, 1: 1, 2: 2}\n"
          ]
        }
      ]
    },
    {
      "cell_type": "markdown",
      "source": [
        "Exercise 17:\n",
        "Write a Python program to remove None values from a given list using the\n",
        "lambda function.\n",
        "Original list:\n",
        "[12, 0, None, 23, None, -55, 234, 89, None, 0, 6, -12]\n",
        "Remove None value from the said list:\n",
        "[12, 0, 23, -55, 234, 89, 0, 6, -12]"
      ],
      "metadata": {
        "id": "41VlG1CYALKz"
      }
    },
    {
      "cell_type": "code",
      "source": [
        "\n",
        "def fun1(list1):\n",
        "    result = filter(lambda x: x is not None, list1)\n",
        "    return list(result)\n",
        "list1 = [12, 0, None, 23, None, -55, 234, 89, None, 0, 6, -12]\n",
        "print(fun1(list1))"
      ],
      "metadata": {
        "id": "9UR33hTHAPza",
        "colab": {
          "base_uri": "https://localhost:8080/"
        },
        "outputId": "587f328a-71a3-4fd7-90ae-64feecd49360"
      },
      "execution_count": 12,
      "outputs": [
        {
          "output_type": "stream",
          "name": "stdout",
          "text": [
            "[12, 0, 23, -55, 234, 89, 0, 6, -12]\n"
          ]
        }
      ]
    }
  ]
}