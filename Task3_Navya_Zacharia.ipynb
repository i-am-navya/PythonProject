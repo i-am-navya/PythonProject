{
  "nbformat": 4,
  "nbformat_minor": 0,
  "metadata": {
    "colab": {
      "provenance": []
    },
    "kernelspec": {
      "name": "python3",
      "display_name": "Python 3"
    },
    "language_info": {
      "name": "python"
    }
  },
  "cells": [
    {
      "cell_type": "markdown",
      "source": [
        "Write a Python program to create a class representing a Circle. Include methods to calculate its area and perimeter."
      ],
      "metadata": {
        "id": "8D939unPW13i"
      }
    },
    {
      "cell_type": "code",
      "source": [
        "import math\n",
        "class Circle:\n",
        "    def  __init__(self, radius):\n",
        "        self.radius = radius\n",
        "    def area(self):\n",
        "        return math.pi * self.radius**2\n",
        "    def perimeter(self):\n",
        "        return 2 * math.pi * self.radius\n",
        "radius = int(input(\"Enter the radius:\"))\n",
        "circle = Circle(radius)\n",
        "area = circle.area()\n",
        "perimeter = circle.perimeter()\n",
        "print(\"Area:\", area)\n",
        "print(\"Perimeter:\", perimeter)"
      ],
      "metadata": {
        "colab": {
          "base_uri": "https://localhost:8080/"
        },
        "id": "dUgfTuJsW4U3",
        "outputId": "3d04df2b-5e6a-47eb-b88a-4aeee123d3a7"
      },
      "execution_count": 6,
      "outputs": [
        {
          "output_type": "stream",
          "name": "stdout",
          "text": [
            "Enter the radius:2\n",
            "Area: 12.566370614359172\n",
            "Perimeter: 12.566370614359172\n"
          ]
        }
      ]
    },
    {
      "cell_type": "markdown",
      "source": [
        "Write a Python program to create a calculator class. Include methods for basic arithmetic operations"
      ],
      "metadata": {
        "id": "iYmOstaIW4_d"
      }
    },
    {
      "cell_type": "code",
      "source": [
        "class Calculator:\n",
        "    def add(self, x, y):\n",
        "        return x + y\n",
        "    def subtract(self, x, y):\n",
        "        return x - y\n",
        "    def multiply(self, x, y):\n",
        "        return x * y\n",
        "    def divide(self, x, y):\n",
        "        if y != 0:\n",
        "            return x / y\n",
        "        else:\n",
        "            return (\"Cannot divide by zero.\")\n",
        "calculator = Calculator()\n",
        "result = calculator.add(8, 4)\n",
        "print(\"Add\", result)\n",
        "result = calculator.subtract(8, 4)\n",
        "print(\"Subtract\", result)\n",
        "result = calculator.multiply(8,4)\n",
        "print(\"Product\", result)\n",
        "result = calculator.divide(8, 4)\n",
        "print(\"Divison\", result)\n",
        "result = calculator.divide(8, 0)\n",
        "print(\"Divison\", result)"
      ],
      "metadata": {
        "colab": {
          "base_uri": "https://localhost:8080/"
        },
        "id": "j_Sguxs6W71x",
        "outputId": "23a02730-0ccc-4e6d-d188-8828a9df4dc2"
      },
      "execution_count": 8,
      "outputs": [
        {
          "output_type": "stream",
          "name": "stdout",
          "text": [
            "Add 12\n",
            "Subtract 4\n",
            "Product 32\n",
            "Divison 2.0\n",
            "Divison Cannot divide by zero.\n"
          ]
        }
      ]
    },
    {
      "cell_type": "markdown",
      "source": [
        "Write a Python program to create a class that represents a shape. Include methods to calculate its area and perimeter. Implement subclasses for different shapes like circle, triangle, and square."
      ],
      "metadata": {
        "id": "gq2DDAM0W8Qa"
      }
    },
    {
      "cell_type": "code",
      "source": [
        "import math\n",
        "class Shape:\n",
        "    def calculate_area(self):\n",
        "        pass\n",
        "    def calculate_perimeter(self):\n",
        "        pass\n",
        "class Circle(Shape):\n",
        "    def __init__(self, radius):\n",
        "        self.radius = radius\n",
        "    def area(self):\n",
        "        return math.pi * self.radius**2\n",
        "    def perimeter(self):\n",
        "        return 2 * math.pi * self.radius\n",
        "class Rectangle(Shape):\n",
        "    def __init__(self, length, width):\n",
        "        self.length = length\n",
        "        self.width = width\n",
        "    def area(self):\n",
        "        return self.length * self.width\n",
        "    def perimeter(self):\n",
        "        return 2 * (self.length + self.width)\n",
        "class Triangle(Shape):\n",
        "    def __init__(self, base, height, side1, side2, side3):\n",
        "        self.base = base\n",
        "        self.height = height\n",
        "        self.side1 = side1\n",
        "        self.side2 = side2\n",
        "        self.side3 = side3\n",
        "    def area(self):\n",
        "        return 0.5 * self.base * self.height\n",
        "    def perimeter(self):\n",
        "        return self.side1 + self.side2 + self.side3\n",
        "radius = 10\n",
        "circle = Circle(radius)\n",
        "circle_area = circle.area()\n",
        "circle_perimeter = circle.perimeter()\n",
        "print(\"Circle Area:\", circle_area)\n",
        "print(\"Circle Perimeter:\", circle_perimeter)\n",
        "length = 3\n",
        "width = 4\n",
        "rectangle = Rectangle(length, width)\n",
        "rectangle_area = rectangle.area()\n",
        "rectangle_perimeter = rectangle.perimeter()\n",
        "print(\"Rectangle Area:\", rectangle_area)\n",
        "print(\"Rectangle Perimeter:\", rectangle_perimeter)\n",
        "base = 5\n",
        "height = 6\n",
        "side1 = 5\n",
        "side2 = 4\n",
        "side3 = 4\n",
        "triangle = Triangle(base, height, side1, side2, side3)\n",
        "triangle_area = triangle.area()\n",
        "triangle_perimeter = triangle.perimeter()\n",
        "print(\"Triangle Area:\", triangle_area)\n",
        "print(\"Triangle Perimeter:\", triangle_perimeter)"
      ],
      "metadata": {
        "colab": {
          "base_uri": "https://localhost:8080/"
        },
        "id": "iAQiBSkPW_Is",
        "outputId": "31d82ebd-20c1-409e-d6c6-c308e826918a"
      },
      "execution_count": 9,
      "outputs": [
        {
          "output_type": "stream",
          "name": "stdout",
          "text": [
            "Circle Area: 314.1592653589793\n",
            "Circle Perimeter: 62.83185307179586\n",
            "Rectangle Area: 12\n",
            "Rectangle Perimeter: 14\n",
            "Triangle Area: 15.0\n",
            "Triangle Perimeter: 13\n"
          ]
        }
      ]
    }
  ]
}